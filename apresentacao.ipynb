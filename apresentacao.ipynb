{
 "cells": [
  {
   "cell_type": "markdown",
   "metadata": {
    "slideshow": {
     "slide_type": "slide"
    }
   },
   "source": [
    "\n",
    "# GeoSampa e GeoProcessamento\n",
    "\n",
    "Fernando Gomes"
   ]
  },
  {
   "cell_type": "markdown",
   "metadata": {
    "slideshow": {
     "slide_type": "fragment"
    }
   },
   "source": [
    "**Arquiteto, Urbanista, Analista de Sistemas e Programador, cursando mestrado em Engenharia de Transportes - Informações Espaciais, diretor de divisão ténica em GeoInfo/SMDU**\n",
    "\n",
    "fernandogomes@prefeitura.sp.gov.br"
   ]
  },
  {
   "cell_type": "markdown",
   "metadata": {
    "slideshow": {
     "slide_type": "slide"
    }
   },
   "source": [
    "## Agenda\n",
    "\n",
    "* Um pouco além do GeoSampa que conhecemos\n",
    "* Os papéis do GeoSampa\n",
    "* Espacialização dos atendimento ao Cidadão, SP156\n",
    "* LiDAR 3D, exemplo: Inventário para secretaria de Educação\n",
    "\n",
    "> Apresentação disponível https://github.com/feromes/Aula-GeoSampa-Para-GeoProcessamento"
   ]
  },
  {
   "cell_type": "code",
   "execution_count": 21,
   "metadata": {
    "slideshow": {
     "slide_type": "subslide"
    }
   },
   "outputs": [
    {
     "name": "stdout",
     "output_type": "stream",
     "text": [
      "Tudo com uma py(tada) de programação\n"
     ]
    }
   ],
   "source": [
    "print('Tudo com uma py(tada) de programação')"
   ]
  },
  {
   "cell_type": "markdown",
   "metadata": {
    "slideshow": {
     "slide_type": "fragment"
    }
   },
   "source": [
    "> por diversos motivos dentre eles ...\n",
    "* estimula o compartilhamento do processo além do resultado\n",
    "* grandes volumes de dados\n",
    "* processamento distribuido ou em nuvem\n",
    "* é performático\n",
    "* potencial para disseminar o conhecimento"
   ]
  },
  {
   "cell_type": "markdown",
   "metadata": {
    "slideshow": {
     "slide_type": "slide"
    }
   },
   "source": [
    "## O que é o GeoSampa?\n",
    "\n",
    "* GeoSampa não é apenas um site\n",
    "* Infraestrutura de dados espaciais <----\n",
    "    * Bancos de dados PostGis, **GeoServer(s)**, Servidor de Arquivos, ETL (Extract, Transfer, Load)\n",
    "* Softwares Livres ([Decreto Nº 58.447 de 1º de outubro de 2018](http://legislacao.prefeitura.sp.gov.br/leis/decreto-58447-de-1-de-outubro-de-2018))\n",
    "* Equipe de pessoas GeoInfo e Intersecretarial\n",
    "* Mais recentemente: Amazon OpenData (LiDAR 3D recente) e GitHub"
   ]
  },
  {
   "cell_type": "markdown",
   "metadata": {
    "slideshow": {
     "slide_type": "slide"
    }
   },
   "source": [
    "### Estabelecido em Decreto\n",
    "\n",
    "* [Decreto 57.770, de 03 de julho de 2017](http://legislacao.prefeitura.sp.gov.br/leis/decreto-57770-de-03-de-julho-de-2017/)\n",
    "    * Estabelece O Sistema de Informações Geográficas do Município de São Paulo – SIG-SP\n",
    "    * IMDE - Infra-estrutura Municipal de Dados Espaciais\n",
    "    >SIG-SP é um sistema aberto, integrador, dinâmico e permanente, em constante adequação à realidade urbana e à evolução das ferramentas tecnológicas\n",
    "    \n"
   ]
  },
  {
   "cell_type": "markdown",
   "metadata": {
    "slideshow": {
     "slide_type": "subslide"
    }
   },
   "source": [
    "### Serviços WEB\n",
    "\n",
    "* O que é um serviço WEB\n",
    "* Open Geospatial Consortium (OGC)\n",
    "    * https://www.osgeo.org\n",
    "    * Projetos, iniciativas, recursos e padrões\n",
    "* Dentre os mais de 30 padrões, destacam-se:\n",
    "    * WMS – Web Map Service\n",
    "    * WFS – Web Feature Service\n",
    "* http://wms.geosampa.prefeitura.sp.gov.br/geoserver/web/\n"
   ]
  },
  {
   "cell_type": "code",
   "execution_count": 2,
   "metadata": {
    "slideshow": {
     "slide_type": "subslide"
    }
   },
   "outputs": [
    {
     "data": {
      "text/html": [
       "\n",
       "        <iframe\n",
       "            width=\"950\"\n",
       "            height=\"600\"\n",
       "            src=\"http://wms.geosampa.prefeitura.sp.gov.br/geoserver/web/\"\n",
       "            frameborder=\"0\"\n",
       "            allowfullscreen\n",
       "        ></iframe>\n",
       "        "
      ],
      "text/plain": [
       "<IPython.lib.display.IFrame at 0x7f6cb1ee71c0>"
      ]
     },
     "execution_count": 2,
     "metadata": {},
     "output_type": "execute_result"
    }
   ],
   "source": [
    "from IPython.display import IFrame\n",
    "IFrame(\"http://wms.geosampa.prefeitura.sp.gov.br/geoserver/web/\", width=950, height=600)"
   ]
  },
  {
   "cell_type": "code",
   "execution_count": 22,
   "metadata": {
    "slideshow": {
     "slide_type": "subslide"
    }
   },
   "outputs": [],
   "source": [
    "from owslib.wms import WebMapService"
   ]
  },
  {
   "cell_type": "code",
   "execution_count": 23,
   "metadata": {},
   "outputs": [],
   "source": [
    "wms = WebMapService('http://wms.geosampa.prefeitura.sp.gov.br/geoserver/geoportal/wms', version='1.3.0')"
   ]
  },
  {
   "cell_type": "code",
   "execution_count": 24,
   "metadata": {},
   "outputs": [
    {
     "data": {
      "text/plain": [
       "243"
      ]
     },
     "execution_count": 24,
     "metadata": {},
     "output_type": "execute_result"
    }
   ],
   "source": [
    "len(wms.contents)"
   ]
  },
  {
   "cell_type": "code",
   "execution_count": 25,
   "metadata": {
    "slideshow": {
     "slide_type": "subslide"
    }
   },
   "outputs": [
    {
     "data": {
      "text/plain": [
       "['Articulacao_Orto_2017',\n",
       " 'Articulacao_Orto_MDC_2004',\n",
       " 'geoportal:quadricula_orto_2004_E5000',\n",
       " 'geoportal:quadricula_orto_2004_E1000',\n",
       " 'Articulacao_SaraBrasil_1930',\n",
       " 'geoportal:quadricula_SARA_1930_E20000',\n",
       " 'geoportal:quadricula_SARA_1930_E5000',\n",
       " 'geoportal:quadricula_SARA_1930_E1000',\n",
       " 'Articulacao_foto_aerea_MDC_2004',\n",
       " 'geoportal:quadricula_foto_aerea_2004_E1000',\n",
       " 'geoportal:quadricula_foto_aerea_2004_E5000',\n",
       " 'Carta_Geotecnica',\n",
       " 'geoportal:geotecnica_poligono',\n",
       " 'geoportal:geotecnica_linha',\n",
       " 'geoportal:geotecnica_ponto',\n",
       " 'Curva_Intermediaria',\n",
       " 'geoportal:curva_intermediaria',\n",
       " 'geoportal:curva_intermediaria_s',\n",
       " 'Curva_Mestra',\n",
       " 'geoportal:curva_mestra',\n",
       " 'geoportal:curva_mestra_s',\n",
       " 'Energia',\n",
       " 'geoportal:linha_alta_tensao',\n",
       " 'geoportal:torre_alta_tensao',\n",
       " 'MapaBase_Politico',\n",
       " 'MapaBase_Topografico',\n",
       " 'Perimetro_Zoneamento',\n",
       " 'geoportal:zoneamento_2004_urbana',\n",
       " 'geoportal:zoneamento_2004_ambiental',\n",
       " 'geoportal:zoneamento_2004_especial',\n",
       " 'geoportal:zoneamento_2004_verde',\n",
       " 'geoportal:zoneamento_2004_operacaourbana',\n",
       " 'Hillshade_MDC_2004',\n",
       " 'acessibilidade_smped',\n",
       " 'acidente_cet',\n",
       " 'apoio_terrestre',\n",
       " 'area_cedida',\n",
       " 'area_contaminada_reabilitada_svma',\n",
       " 'area_contexto',\n",
       " 'area_inundavel',\n",
       " 'area_risco_geologico',\n",
       " 'arruamento_regularizado',\n",
       " 'arvore',\n",
       " 'bacia_hidrografica',\n",
       " 'calcada',\n",
       " 'cartorio_registro_imovel',\n",
       " 'centro_referencia_assistencia_social',\n",
       " 'classificacao_viaria_cet',\n",
       " 'cobertura_vegetal',\n",
       " 'complexo_saude_existente',\n",
       " 'conectividade_fablab_grande',\n",
       " 'conectividade_fablab_pequeno',\n",
       " 'conectividade_telecentro',\n",
       " 'conjunto',\n",
       " 'corredor_ecologico',\n",
       " 'corredor_onibus',\n",
       " 'croqui_patrimonial',\n",
       " 'declividade',\n",
       " 'decreto_utilidade_publica_interesse_social',\n",
       " 'deliberacao_ctlu',\n",
       " 'departamento_cet',\n",
       " 'desmembramento_gleba',\n",
       " 'diretriz',\n",
       " 'distrito_municipal',\n",
       " 'drenagem',\n",
       " 'edificacao',\n",
       " 'edificacao_pseudo3d',\n",
       " 'eixo_ativado_decreto',\n",
       " 'equipamento_assistencia_social',\n",
       " 'equipamento_bom_prato',\n",
       " 'equipamento_bombeiros',\n",
       " 'equipamento_casas_mediacao',\n",
       " 'equipamento_cat',\n",
       " 'equipamento_ccz',\n",
       " 'equipamento_cemiterio',\n",
       " 'equipamento_central_triagem_cooperativa',\n",
       " 'equipamento_central_triagem_mecanizada',\n",
       " 'equipamento_conselho_tutelar',\n",
       " 'equipamento_cultura_bibliotecas',\n",
       " 'equipamento_cultura_espacos_culturais',\n",
       " 'equipamento_cultura_museus',\n",
       " 'equipamento_cultura_outros',\n",
       " 'equipamento_cultura_teatro_cinema_show',\n",
       " 'equipamento_ecoponto',\n",
       " 'equipamento_educacao_ceu',\n",
       " 'equipamento_educacao_ensino_tecnico_rede_publica',\n",
       " 'equipamento_educacao_infantil_rede_publica',\n",
       " 'equipamento_educacao_outros',\n",
       " 'equipamento_educacao_pronatec',\n",
       " 'equipamento_educacao_rede_privada',\n",
       " 'equipamento_educacao_rede_publica',\n",
       " 'equipamento_educacao_senai_sesi_senac',\n",
       " 'equipamento_entidade_crianca_adolescente',\n",
       " 'equipamento_esporte_centro_esportivo',\n",
       " 'equipamento_esporte_clubes',\n",
       " 'equipamento_esporte_clubesdacomunidade',\n",
       " 'equipamento_esporte_estadios',\n",
       " 'equipamento_esporte_outros',\n",
       " 'equipamento_feira_livre',\n",
       " 'equipamento_guarda_civil_metropolitana',\n",
       " 'equipamento_mercados_municipais',\n",
       " 'equipamento_policia_civil',\n",
       " 'equipamento_policia_militar',\n",
       " 'equipamento_praca_wifi',\n",
       " 'equipamento_rede_servicos',\n",
       " 'equipamento_sacoloes',\n",
       " 'equipamento_saude_abrangencia_ubs',\n",
       " 'equipamento_saude_ambulatorios_especializados',\n",
       " 'equipamento_saude_cobertura_familia',\n",
       " 'equipamento_saude_coordenadoria_regional',\n",
       " 'equipamento_saude_hospital',\n",
       " 'equipamento_saude_outros',\n",
       " 'equipamento_saude_saude_mental',\n",
       " 'equipamento_saude_supervisao_tecnica',\n",
       " 'equipamento_saude_ubs_posto_centro',\n",
       " 'equipamento_saude_unidades_dst-aids',\n",
       " 'equipamento_saude_urgencia_emergencia',\n",
       " 'equipamento_saude_vigilancia_saude',\n",
       " 'equipamento_shopping_center',\n",
       " 'estacao_metro',\n",
       " 'estacao_trem',\n",
       " 'faixa_onibus',\n",
       " 'ferrovia_mdc',\n",
       " 'gerencia_cet',\n",
       " 'hidrografia_ilha',\n",
       " 'hidrografia_restituida',\n",
       " 'iluminacao_publica',\n",
       " 'imovel_notificado',\n",
       " 'linha_metro',\n",
       " 'linha_trem',\n",
       " 'lote_cidadao',\n",
       " 'manancial',\n",
       " 'marco',\n",
       " 'massa_d_agua',\n",
       " 'obra_arte',\n",
       " 'operacao_urbana',\n",
       " 'outorga_onerosa',\n",
       " 'parque_municipal',\n",
       " 'passagem',\n",
       " 'patrimonio_cultural_acervo_tombado',\n",
       " 'patrimonio_cultural_area_arqueologica',\n",
       " 'patrimonio_cultural_area_envoltoria_CONDEPHAAT',\n",
       " 'patrimonio_cultural_area_envoltoria_CONPRESP',\n",
       " 'patrimonio_cultural_area_envoltoria_IPHAN',\n",
       " 'patrimonio_cultural_bem_arqueologico',\n",
       " 'patrimonio_cultural_bem_registrado',\n",
       " 'patrimonio_cultural_bem_tombado',\n",
       " 'patrimonio_cultural_lugar_paisagistico_ambiental',\n",
       " 'patrimonio_cultural_memoria_paulistana',\n",
       " 'patrimonio_cultural_monumento',\n",
       " 'patrimonio_cultural_ocorrencia_arqueologica',\n",
       " 'patrimonio_cultural_selo_valor_cultural',\n",
       " 'patrimonio_cultural_sitio_arqueologico',\n",
       " 'pde2014_v_eetr_03_map',\n",
       " 'pde2014_v_eixo_prv_03a_map',\n",
       " 'pde2014_v_maem_02a_map',\n",
       " 'pde2014_v_mcrar_02_map',\n",
       " 'pde2014_v_mcrz_01_map',\n",
       " 'pde2014_v_parq_pde_map',\n",
       " 'pde2014_v_prmr_ict_11_map',\n",
       " 'pde2014_v_zeis_04_map',\n",
       " 'pde2014_v_zeis_04a_map',\n",
       " 'pde2014_v_zu_zr_01a_map',\n",
       " 'plano_acao_regional',\n",
       " 'plano_macro_regional',\n",
       " 'pluviometro',\n",
       " 'ponto_cotado',\n",
       " 'ponto_intervia',\n",
       " 'ponto_onibus',\n",
       " 'quadra_fiscal',\n",
       " 'quadra_viaria_editada',\n",
       " 'quadricula_folha_mds',\n",
       " 'quadricula_foto_aerea_1940',\n",
       " 'quadricula_foto_aerea_1954',\n",
       " 'quadricula_foto_aerea_2000',\n",
       " 'quadricula_foto_aerea_2001',\n",
       " 'quadricula_foto_aerea_2017',\n",
       " 'quadricula_orto_2001',\n",
       " 'quadricula_orto_2017_E1000',\n",
       " 'quadricula_orto_2017_E5000',\n",
       " 'quadricula_vasp_cruzeiro',\n",
       " 'rampa_heliponto_licenciado',\n",
       " 'rede_comgas',\n",
       " 'registro_area_publica',\n",
       " 'remanescente_pmma',\n",
       " 'represa_nivel_maximo',\n",
       " 'reservatorio_amortecimento',\n",
       " 'restricao_circulacao_veiculo_mian',\n",
       " 'restricao_circulacao_veiculo_zmrc',\n",
       " 'restricao_circulacao_veiculo_zmrf',\n",
       " 'restricao_geotecnica',\n",
       " 'sac_capinacao_guia_sarjeta',\n",
       " 'sac_cata_bagulho',\n",
       " 'sac_conteiner',\n",
       " 'sac_falta_varricao',\n",
       " 'sac_intervalo_excessivo_onibus',\n",
       " 'sac_lavagem_especial',\n",
       " 'sac_limpeza_bueiro',\n",
       " 'sac_limpeza_enchente_evento',\n",
       " 'sac_pintura_guia_poste',\n",
       " 'sac_placa_transito',\n",
       " 'sac_remocao_animal',\n",
       " 'sac_remocao_entulho',\n",
       " 'sac_remocao_grande_objeto',\n",
       " 'sac_remocao_lixeira',\n",
       " 'sac_remocao_saco_varricao',\n",
       " 'sac_sinalizacao_horizontal',\n",
       " 'sac_tapa_buraco',\n",
       " 'sac_tapa_buraco_faixa_corredor',\n",
       " 'sac_veiculo_local_proibido',\n",
       " 'sede_subprefeitura',\n",
       " 'segmento_logradouro',\n",
       " 'semaforo',\n",
       " 'servico_assistencia_social_familia',\n",
       " 'servico_medida_socioeducativa',\n",
       " 'setor_censitario_2010',\n",
       " 'setor_censitario_densidadedemografica',\n",
       " 'setor_censitario_vulnerabilidadesocial',\n",
       " 'setor_fiscal',\n",
       " 'subprefeitura',\n",
       " 'subsetor_operacao_urbana',\n",
       " 'terminal_onibus',\n",
       " 'termo_compromisso_ambiental_svma',\n",
       " 'terra_indigena',\n",
       " 'tpcl_uso_predominancia',\n",
       " 'transpetro_duto',\n",
       " 'transpetro_marco',\n",
       " 'unidade_conservacao_APA',\n",
       " 'unidade_produtiva_rural',\n",
       " 'via_bicicleta',\n",
       " 'vw_wfs_cortico_geosampa',\n",
       " 'vw_wfs_favela_geosampa',\n",
       " 'vw_wfs_loteamento_geosampa',\n",
       " 'vw_wfs_nucleo_geosampa',\n",
       " 'zeis_revogada',\n",
       " 'zona_origem_destino',\n",
       " 'zoneamento_2016_map1',\n",
       " 'zoneamento_2016_map2',\n",
       " 'zoneamento_2016_map3',\n",
       " 'zoneamento_2016_map4',\n",
       " 'zoneamento_2016_zeup_zemp',\n",
       " 'zoneamento_classificacao_viaria',\n",
       " 'zoneamento_corredor_uso']"
      ]
     },
     "execution_count": 25,
     "metadata": {},
     "output_type": "execute_result"
    }
   ],
   "source": [
    "list(wms.contents)"
   ]
  },
  {
   "cell_type": "code",
   "execution_count": 7,
   "metadata": {
    "slideshow": {
     "slide_type": "subslide"
    }
   },
   "outputs": [
    {
     "name": "stdout",
     "output_type": "stream",
     "text": [
      "Distrito\n",
      "Os distritos foram criados mediante a Lei nº 11.220/1992. Seus limites foram estabelecidos a partir de estudos elaborados por diversos órgãos do Executivo municipal, tendo em conta fatores físico-territoriais, demográficos, urbanísticos, econômicos e político-administrativos.\n",
      "(-47.47849807885537, -24.19376329804249, -45.773692681083574, -23.137814287792693, 'CRS:84')\n"
     ]
    }
   ],
   "source": [
    "print(wms.contents['distrito_municipal'].title)\n",
    "print(wms.contents['distrito_municipal'].abstract)\n",
    "print(wms.contents['distrito_municipal'].boundingBox) "
   ]
  },
  {
   "cell_type": "code",
   "execution_count": 26,
   "metadata": {
    "slideshow": {
     "slide_type": "subslide"
    }
   },
   "outputs": [],
   "source": [
    "img = wms.getmap(layers=['distrito_municipal'], \n",
    "                 size=(600, 440), srs='EPSG:31983', \n",
    "                 bbox=(248200.0, 7324100.0, 420800.0, 7439100.0), \n",
    "                 format='image/png')"
   ]
  },
  {
   "cell_type": "code",
   "execution_count": 9,
   "metadata": {
    "slideshow": {
     "slide_type": "subslide"
    }
   },
   "outputs": [
    {
     "data": {
      "image/png": "[encoded data removed]",
      "text/plain": [
       "<IPython.core.display.Image object>"
      ]
     },
     "execution_count": 9,
     "metadata": {},
     "output_type": "execute_result"
    }
   ],
   "source": [
    "from IPython.display import Image\n",
    "Image(img.read())"
   ]
  },
  {
   "cell_type": "markdown",
   "metadata": {
    "slideshow": {
     "slide_type": "subslide"
    }
   },
   "source": [
    "> Para saber mais sobre serviços do GeoSampa por Python:\n",
    "* https://github.com/geoinfo-smdu/Inventario-GeoSampa\n",
    "* https://github.com/geoinfo-smdu/educacao-3D\n",
    "* https://github.com/geoinfo-smdu/lotes-m3dc"
   ]
  },
  {
   "cell_type": "markdown",
   "metadata": {
    "slideshow": {
     "slide_type": "slide"
    }
   },
   "source": [
    "## Os papéis do GeoSampa\n",
    "\n",
    "> Art. 6º, Decreto 57.770, de 03 de julho de 2017\n",
    "\n",
    "* I - Simplificação de acesso\n",
    "* II - Transparência e acesso público\n",
    "* III - Garantir não sobreposição de informação\n",
    "\n"
   ]
  },
  {
   "cell_type": "markdown",
   "metadata": {
    "slideshow": {
     "slide_type": "subslide"
    }
   },
   "source": [
    "> \"A insegurança e dúvidas devido a ausência de\n",
    "descrição perimétrica dos mapas, mesmo que ainda não resolvidas no âmbito formal 107 ,\n",
    "podem ser consideradas de certa forma superadas, uma vez que o acesso da sociedade\n",
    "civil em geral ao mapa da legislação urbanística pelo portal GeoSampa permite controle\n",
    "social sobre eventuais alterações ilegais.\"\n",
    "\n",
    "SEO, He Nem Kim. O mapa e a lei: evolução do uso da cartografia na legislação urbaní­stica no municí­pio de São Paulo. text, Universidade de São Paulo, 2019. Disponível em: <http://www.teses.usp.br/teses/disponiveis/16/16139/tde-25072019-172657/>. Acesso em: 20 nov. 2020.\n"
   ]
  },
  {
   "cell_type": "markdown",
   "metadata": {
    "slideshow": {
     "slide_type": "subslide"
    }
   },
   "source": [
    "### Cidadania\n",
    "\n",
    "> “em lugar do cidadão formou-se um consumidor, que aceita ser chamado  de  usuário” (SANTOS, 1987, p. 13)\n",
    "\n",
    "SANTOS, M. O espaço do cidadão.São Paulo: EDUSP, 1987\n",
    "\n"
   ]
  },
  {
   "cell_type": "markdown",
   "metadata": {
    "slideshow": {
     "slide_type": "subslide"
    }
   },
   "source": [
    "### Desafios: Disseminação e fomento de uso\n",
    "\n",
    "* Pesquisa\n",
    "* Público em Geral\n",
    "* Aplicações em geral (OSM e Licença)\n",
    "* E o que eu estou fazendo aqui!"
   ]
  },
  {
   "cell_type": "markdown",
   "metadata": {
    "slideshow": {
     "slide_type": "subslide"
    }
   },
   "source": [
    "### Exemplo\n",
    "\n",
    "> Qual o gênero mais frequente na denominação de nomes de ruas na cidade de São Paulo?\n",
    "\n",
    "Gênero e Nomes de Rua – Medida SP. Disponível em: <https://medidasp.com/genero-ruas.html>. Acesso em: 20 nov. 2020."
   ]
  },
  {
   "cell_type": "markdown",
   "metadata": {
    "slideshow": {
     "slide_type": "fragment"
    }
   },
   "source": [
    "* Feminino\n",
    "* Masculino\n",
    "* Indefinido"
   ]
  },
  {
   "cell_type": "markdown",
   "metadata": {
    "slideshow": {
     "slide_type": "subslide"
    }
   },
   "source": [
    "![](https://i.imgur.com/sGvAjvL.jpg)"
   ]
  },
  {
   "cell_type": "markdown",
   "metadata": {
    "slideshow": {
     "slide_type": "slide"
    }
   },
   "source": [
    "## A espacialização dos atendimentos do SP156\n",
    "\n",
    "* A natureza espacial do dado\n",
    "* Seria esse um bom gatilho para o estimulo da cidadania?\n",
    "* Heterogeneidade e complexidade da cidade\n",
    "* SMIT e o fluxo procedimental do atendimento\n",
    "* Dados abertos desde 2012"
   ]
  },
  {
   "cell_type": "markdown",
   "metadata": {
    "slideshow": {
     "slide_type": "subslide"
    }
   },
   "source": [
    "### O GeoProcessamento dos atendimentos\n",
    "\n",
    "> https://github.com/geoinfo-smdu/geo-sp156\n",
    "\n",
    "1. Dados CSV\n",
    "2. Espacializar\n",
    "    1. Lat/Long\n",
    "    2. SQ (Setor/Quadra)\n",
    "    3. Distrito\n",
    "3. Estruturar os dados para a publicação\n",
    "4. Temáticos\n"
   ]
  },
  {
   "cell_type": "markdown",
   "metadata": {
    "slideshow": {
     "slide_type": "subslide"
    }
   },
   "source": [
    "### Resultados preliminares\n",
    "![](./imagens/camadas-geo-SP156.png)"
   ]
  },
  {
   "cell_type": "code",
   "execution_count": 10,
   "metadata": {
    "slideshow": {
     "slide_type": "subslide"
    }
   },
   "outputs": [],
   "source": [
    "import geopandas as gpd\n",
    "gdf = gpd.read_file('../geo-sp156/resultados/Visualizador-156-2020.gpkg', layer=\"Animais - Ponto - Vistoria de colmeia/vespeiro instalado\")"
   ]
  },
  {
   "cell_type": "code",
   "execution_count": 11,
   "metadata": {},
   "outputs": [
    {
     "data": {
      "text/plain": [
       "Index(['index', 'Data de abertura', 'Canal', 'Tema', 'Assunto', 'Serviço',\n",
       "       'Logradouro', 'Número', 'CEP', 'Subprefeitura', 'Distrito', 'Setor',\n",
       "       'Quadra', 'Latitude', 'Longitude', 'Data do parecer',\n",
       "       'Status da solicitação', 'Órgão', 'geometry'],\n",
       "      dtype='object')"
      ]
     },
     "execution_count": 11,
     "metadata": {},
     "output_type": "execute_result"
    }
   ],
   "source": [
    "gdf.columns "
   ]
  },
  {
   "cell_type": "code",
   "execution_count": 12,
   "metadata": {},
   "outputs": [
    {
     "data": {
      "text/plain": [
       "<AxesSubplot:>"
      ]
     },
     "execution_count": 12,
     "metadata": {},
     "output_type": "execute_result"
    },
    {
     "data": {
      "image/png": "[encoded data removed]",
      "text/plain": [
       "<Figure size 432x288 with 1 Axes>"
      ]
     },
     "metadata": {
      "needs_background": "light"
     },
     "output_type": "display_data"
    }
   ],
   "source": [
    "gdf['Data de abertura'].astype('datetime64').dt.month.hist()"
   ]
  },
  {
   "cell_type": "code",
   "execution_count": 13,
   "metadata": {
    "slideshow": {
     "slide_type": "subslide"
    }
   },
   "outputs": [],
   "source": [
    "import geoplot as gplt\n",
    "import geoplot.crs as gcrs\n",
    "msp = gpd.read_file('../geo-sp156/arquivos/SP.shp')"
   ]
  },
  {
   "cell_type": "code",
   "execution_count": 14,
   "metadata": {},
   "outputs": [],
   "source": [
    "msp = msp.to_crs(\"EPSG:4326\")\n",
    "gdf = gdf.to_crs(\"EPSG:4326\")\n",
    "gdf = gdf[gdf.is_valid]"
   ]
  },
  {
   "cell_type": "code",
   "execution_count": 15,
   "metadata": {
    "slideshow": {
     "slide_type": "skip"
    }
   },
   "outputs": [],
   "source": [
    "import warnings\n",
    "warnings.simplefilter(action='ignore')"
   ]
  },
  {
   "cell_type": "code",
   "execution_count": 16,
   "metadata": {
    "slideshow": {
     "slide_type": "subslide"
    }
   },
   "outputs": [
    {
     "data": {
      "text/plain": [
       "<GeoAxesSubplot:>"
      ]
     },
     "execution_count": 16,
     "metadata": {},
     "output_type": "execute_result"
    },
    {
     "data": {
      "image/png": "[encoded data removed]",
      "text/plain": [
       "<Figure size 576x432 with 1 Axes>"
      ]
     },
     "metadata": {
      "needs_background": "light"
     },
     "output_type": "display_data"
    }
   ],
   "source": [
    "ax = gplt.kdeplot(gdf, projection=gcrs.WebMercator(), shade=True, cmap='Reds', thresh=0.0001)\n",
    "gplt.polyplot(msp, projection=gcrs.WebMercator(), ax=ax, zorder=1)"
   ]
  },
  {
   "cell_type": "markdown",
   "metadata": {
    "slideshow": {
     "slide_type": "subslide"
    }
   },
   "source": [
    "### Próximos Passos\n",
    "\n",
    "* Fomentar o uso destes dados\n",
    "* Estimular desenvolvimentos (Academia, setor privado, terceiro setor e setor público)\n",
    "* Dados espacializados em tempo real"
   ]
  },
  {
   "cell_type": "markdown",
   "metadata": {
    "slideshow": {
     "slide_type": "slide"
    }
   },
   "source": [
    "### LiDAR 3D MDS\n",
    "\n",
    "* Aerolevantamento relizado em maio de 2017\n",
    "* MDT publicado final de 2019\n",
    "* MDS publicado marcço de 2020\n",
    "* Visualizador Web, Arquivos para download (SCM), Serviço\n",
    "* Entwine Point Tiles, Potree (Softwares Livres)\n"
   ]
  },
  {
   "cell_type": "code",
   "execution_count": 17,
   "metadata": {
    "slideshow": {
     "slide_type": "subslide"
    }
   },
   "outputs": [
    {
     "data": {
      "image/jpeg": "[encoded data removed]",
      "text/html": [
       "\n",
       "        <iframe\n",
       "            width=\"400\"\n",
       "            height=\"300\"\n",
       "            src=\"https://www.youtube.com/embed/GSPcyhSAgTQ?start=7&end=31\"\n",
       "            frameborder=\"0\"\n",
       "            allowfullscreen\n",
       "        ></iframe>\n",
       "        "
      ],
      "text/plain": [
       "<IPython.lib.display.YouTubeVideo at 0x7f6c7e427910>"
      ]
     },
     "execution_count": 17,
     "metadata": {},
     "output_type": "execute_result"
    }
   ],
   "source": [
    "from IPython.display import YouTubeVideo\n",
    "YouTubeVideo('GSPcyhSAgTQ',start=7, end=31)"
   ]
  },
  {
   "cell_type": "code",
   "execution_count": 27,
   "metadata": {
    "slideshow": {
     "slide_type": "subslide"
    }
   },
   "outputs": [
    {
     "data": {
      "text/html": [
       "\n",
       "        <iframe\n",
       "            width=\"100%\"\n",
       "            height=\"500px\"\n",
       "            src=\"https://visualizador-laz-web.s3-sa-east-1.amazonaws.com/index.html?&scm=3314-133\"\n",
       "            frameborder=\"0\"\n",
       "            allowfullscreen\n",
       "        ></iframe>\n",
       "        "
      ],
      "text/plain": [
       "<IPython.lib.display.IFrame at 0x7f6c79274820>"
      ]
     },
     "execution_count": 27,
     "metadata": {},
     "output_type": "execute_result"
    }
   ],
   "source": [
    "IFrame(src=\"https://visualizador-laz-web.s3-sa-east-1.amazonaws.com/index.html?&scm=3314-133\", width='100%', height='500px')"
   ]
  },
  {
   "cell_type": "code",
   "execution_count": 28,
   "metadata": {
    "slideshow": {
     "slide_type": "subslide"
    }
   },
   "outputs": [
    {
     "data": {
      "text/html": [
       "\n",
       "        <iframe\n",
       "            width=\"100%\"\n",
       "            height=\"500px\"\n",
       "            src=\"https://visualizador-laz-web.s3-sa-east-1.amazonaws.com/index.html?&mdt=1\"\n",
       "            frameborder=\"0\"\n",
       "            allowfullscreen\n",
       "        ></iframe>\n",
       "        "
      ],
      "text/plain": [
       "<IPython.lib.display.IFrame at 0x7f6c79274760>"
      ]
     },
     "execution_count": 28,
     "metadata": {},
     "output_type": "execute_result"
    }
   ],
   "source": [
    "IFrame(src=\"https://visualizador-laz-web.s3-sa-east-1.amazonaws.com/index.html?&mdt=1\", width='100%', height='500px')"
   ]
  },
  {
   "cell_type": "markdown",
   "metadata": {
    "slideshow": {
     "slide_type": "subslide"
    }
   },
   "source": [
    "### CEUs 3D\n",
    "\n",
    "* Inventário solicitado pela Secretaria da Educação\n",
    "* Necessitavam de algo procedimental para levantar o inventário físico para contratação e zeladoria\n",
    "* Será que é só o LiDAR 3D?"
   ]
  },
  {
   "cell_type": "code",
   "execution_count": 20,
   "metadata": {
    "slideshow": {
     "slide_type": "subslide"
    }
   },
   "outputs": [
    {
     "data": {
      "text/html": [
       "\n",
       "        <iframe\n",
       "            width=\"950\"\n",
       "            height=\"600\"\n",
       "            src=\"arquivos/Educação 3d.pdf\"\n",
       "            frameborder=\"0\"\n",
       "            allowfullscreen\n",
       "        ></iframe>\n",
       "        "
      ],
      "text/plain": [
       "<IPython.lib.display.IFrame at 0x7f6c7fe4ce80>"
      ]
     },
     "execution_count": 20,
     "metadata": {},
     "output_type": "execute_result"
    }
   ],
   "source": [
    "IFrame(\"arquivos/Educação 3d.pdf\", width=950, height=600)"
   ]
  },
  {
   "cell_type": "markdown",
   "metadata": {
    "slideshow": {
     "slide_type": "slide"
    }
   },
   "source": [
    "# Obrigado!\n",
    "\n",
    "### Sobrou tempo? Se sobrou podíamos falar mais de LiDAR 3D\n",
    "\n",
    "* https://github.com/geoinfo-smdu\n",
    "* http://geosampa.prefeitura.sp.gov.br/\n",
    "\n",
    "\n",
    "Fernando Gomes"
   ]
  }
 ],
 "metadata": {
  "celltoolbar": "Slideshow",
  "kernelspec": {
   "display_name": "Python 3",
   "language": "python",
   "name": "python3"
  },
  "language_info": {
   "codemirror_mode": {
    "name": "ipython",
    "version": 3
   },
   "file_extension": ".py",
   "mimetype": "text/x-python",
   "name": "python",
   "nbconvert_exporter": "python",
   "pygments_lexer": "ipython3",
   "version": "3.8.3"
  },
  "rise": {
   "enable_chalkboard": true,
   "theme": "moon"
  }
 },
 "nbformat": 4,
 "nbformat_minor": 4
}
